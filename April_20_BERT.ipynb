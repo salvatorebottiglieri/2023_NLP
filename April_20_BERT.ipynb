{
 "cells": [
  {
   "cell_type": "code",
   "execution_count": 1,
   "metadata": {},
   "outputs": [
    {
     "name": "stderr",
     "output_type": "stream",
     "text": [
      "Some weights of the model checkpoint at dbmdz/bert-base-italian-uncased were not used when initializing BertModel: ['cls.predictions.transform.LayerNorm.weight', 'cls.predictions.decoder.weight', 'cls.predictions.bias', 'cls.predictions.transform.dense.bias', 'cls.predictions.transform.dense.weight', 'cls.seq_relationship.weight', 'cls.seq_relationship.bias', 'cls.predictions.transform.LayerNorm.bias']\n",
      "- This IS expected if you are initializing BertModel from the checkpoint of a model trained on another task or with another architecture (e.g. initializing a BertForSequenceClassification model from a BertForPreTraining model).\n",
      "- This IS NOT expected if you are initializing BertModel from the checkpoint of a model that you expect to be exactly identical (initializing a BertForSequenceClassification model from a BertForSequenceClassification model).\n"
     ]
    }
   ],
   "source": [
    "from transformers import AutoModel, AutoTokenizer\n",
    "\n",
    "model_name = \"dbmdz/bert-base-italian-uncased\"\n",
    "\n",
    "tokenizer = AutoTokenizer.from_pretrained(model_name)\n",
    "\n",
    "model = AutoModel.from_pretrained(model_name)\n",
    "\n",
    "haspedee_dataset_path = 'data/30Marzo/haspeede2020/haspeede2_dev_taskAB.tsv'"
   ]
  },
  {
   "cell_type": "code",
   "execution_count": 2,
   "metadata": {},
   "outputs": [],
   "source": [
    "# Import and initializations\n",
    "import pandas as pd\n",
    "import random\n",
    "from sklearn.metrics import accuracy_score, f1_score, recall_score, precision_score\n",
    "\n",
    "id_to_label = {\"0\":\"NoHate\", \"1\": \"Hate\"}\n",
    "text_to_id_map = {}\n",
    "\n",
    "\n",
    "def read_dataset(input_file):\n",
    "  examples = []\n",
    "  labels = []\n",
    "  with open(input_file, 'r', encoding='utf-8', errors='ignore') as f:\n",
    "      contents = f.read()\n",
    "      file_as_list = contents.splitlines()\n",
    "      random.shuffle(file_as_list)\n",
    "      for line in file_as_list:\n",
    "          if line.startswith(\"id\"):\n",
    "            continue\n",
    "          split = line.split(\"\\t\")\n",
    "          text = split[1]\n",
    "          label = split[2]\n",
    "          text_to_id_map[text] = split[0]\n",
    "          labels.append(label)\n",
    "          examples.append(text)\n",
    "      f.close()\n",
    "  return examples, labels\n"
   ]
  },
  {
   "cell_type": "code",
   "execution_count": 3,
   "metadata": {},
   "outputs": [],
   "source": [
    "\n",
    "x, y_ref = read_dataset(haspedee_dataset_path)\n"
   ]
  },
  {
   "attachments": {},
   "cell_type": "markdown",
   "metadata": {},
   "source": [
    "# Pre processing"
   ]
  },
  {
   "cell_type": "code",
   "execution_count": 4,
   "metadata": {},
   "outputs": [],
   "source": [
    "from keras.utils import pad_sequences\n",
    "import torch\n",
    "\n",
    "def replace_substring_with_another_substring(text, substring_to_replace, substring_to_replace_with):\n",
    "  return text.replace(substring_to_replace, substring_to_replace_with)\n",
    "\n",
    "def is_token_length_compatible_with_bert(x):\n",
    "  max_length = 512\n",
    "  for elem in x:\n",
    "    if len(elem) > max_length:\n",
    "      return False\n",
    "  return True\n",
    "\n",
    "def token_with_max_length(x):\n",
    "  max_length_token = 0\n",
    "  for elem in x:\n",
    "      if len(elem) > max_length_token:\n",
    "        max_length_token = len(elem)\n",
    "  return max_length_token\n",
    "\n",
    "def create_attention_mask(input_id):\n",
    "  attention_masks = []\n",
    "  for sent in input_id:\n",
    "    att_mask = [int(token_id > 0) for token_id in sent]  # create a list of 0 and 1.\n",
    "    attention_masks.append(att_mask)  # basically attention_masks is a list of list\n",
    "  return attention_masks\n",
    "\n",
    "\n",
    "# delete @user and URL, because they are not useful for the classification task\n",
    "x = list(map(lambda x: replace_substring_with_another_substring(x, \"@user\", \"\"),x))\n",
    "x = list(map(lambda x: replace_substring_with_another_substring(x, \"URL\", \"\"),x))\n",
    "\n",
    "# tokenization according to the BERT tokenizer\n",
    "x = list(map(lambda x: tokenizer.encode(x,add_special_tokens=True),x))\n",
    "\n",
    "#check if every token is compatible with BERT\n",
    "if not is_token_length_compatible_with_bert(x):\n",
    "  raise Exception(\"Some token is too long for BERT\")\n",
    "\n",
    "\n",
    "# add padding for shorter sentences\n",
    "input_ids = pad_sequences(x, maxlen=token_with_max_length(x) , dtype=\"long\", value=0, truncating=\"post\", padding=\"post\")\n",
    "\n",
    "# create attention masks to avoid to attend to padding tokens\n",
    "input_masks = create_attention_mask(input_ids)\n",
    "\n",
    "# convert ids and masks to pytorch tensors\n",
    "input_ids = torch.tensor(input_ids)  \n",
    "attention_mask = torch.tensor(input_masks)\n"
   ]
  },
  {
   "cell_type": "code",
   "execution_count": 5,
   "metadata": {},
   "outputs": [],
   "source": [
    "import os\n",
    "import numpy as np\n",
    "\n",
    "if not os.path.exists(os.path.join(os.getcwd(),f\"{model_name.replace('/','_')}_embeddings.csv\")):\n",
    "    # feed forward pass to BERT\n",
    "    with torch.no_grad():\n",
    "        last_hidden_states = model(input_ids, attention_mask=attention_mask)\n",
    "\n",
    "    # take only the first token (the [CLS] token) and discard the rest\n",
    "    cls_tokens = last_hidden_states[0][:,0,:].detach().numpy()\n",
    "\n",
    "    np.savetxt(f\"{model_name.replace('/','_') }_embeddings.csv\",cls_tokens,delimiter=\",\")\n"
   ]
  },
  {
   "cell_type": "code",
   "execution_count": 6,
   "metadata": {},
   "outputs": [],
   "source": [
    "from random import sample\n",
    "def balance_dataset(x,y_ref) -> tuple:\n",
    "    number_of_0 = [value for value in y_ref if value == '0']\n",
    "    number_of_1 = [value for value in y_ref if value != '0']\n",
    "\n",
    "    elements_to_remove = abs(len(number_of_0) - len(number_of_1))\n",
    "\n",
    "    indexes_no_hate_elements = []\n",
    "    for i,elem in enumerate(y_ref):\n",
    "        if elem == '0':\n",
    "            indexes_no_hate_elements.append(i)\n",
    "       \n",
    "    indexes_element_to_remove = sample(population=indexes_no_hate_elements,k=elements_to_remove)\n",
    "\n",
    "    x = x.drop(index=indexes_element_to_remove)\n",
    "    y_ref = [y for i,y in enumerate(y_ref) if i not in indexes_element_to_remove]\n",
    "\n",
    "    return x, y_ref"
   ]
  },
  {
   "cell_type": "code",
   "execution_count": 7,
   "metadata": {},
   "outputs": [],
   "source": [
    "from sklearn.linear_model import LogisticRegressionCV\n",
    "from sklearn.model_selection import train_test_split, KFold\n",
    "\n",
    "\n",
    "dataset = pd.read_csv(f\"{model_name.replace('/','_')}_embeddings.csv\",header=None)\n",
    "\n",
    "#dataset,y_ref = balance_dataset(dataset,y_ref)\n",
    "\n",
    "X_train, X_test, Y_train, Y_test = train_test_split(dataset,y_ref,test_size=0.30,random_state=454657)\n",
    "\n",
    "model = LogisticRegressionCV(n_jobs=-1,cv=KFold(n_splits=10,random_state=23445547,shuffle=True),solver='liblinear')\n",
    "\n",
    "model.fit(X_train,Y_train)\n",
    "\n",
    "y_hyp = model.predict(X_test)"
   ]
  },
  {
   "cell_type": "code",
   "execution_count": 8,
   "metadata": {},
   "outputs": [
    {
     "name": "stdout",
     "output_type": "stream",
     "text": [
      "precision: 0.0\n",
      "recall: 0.0\n",
      "accuracy: 0.5940545808966862\n",
      "f1: 0.0\n"
     ]
    },
    {
     "name": "stderr",
     "output_type": "stream",
     "text": [
      "c:\\Users\\Salvatore\\anaconda3\\envs\\nlp\\lib\\site-packages\\sklearn\\metrics\\_classification.py:1344: UndefinedMetricWarning: Precision is ill-defined and being set to 0.0 due to no predicted samples. Use `zero_division` parameter to control this behavior.\n",
      "  _warn_prf(average, modifier, msg_start, len(result))\n"
     ]
    }
   ],
   "source": [
    "# Evaluate your results with these metrics\n",
    "a = accuracy_score(Y_test,y_hyp)\n",
    "p = precision_score(Y_test, y_hyp, pos_label=\"1\")\n",
    "r = recall_score(Y_test, y_hyp, pos_label=\"1\")\n",
    "f1 = f1_score(Y_test, y_hyp, pos_label=\"1\")\n",
    "print(\"precision: \" + str(p) )\n",
    "print(\"recall: \" + str(r) )\n",
    "print(\"accuracy: \" + str(a) )\n",
    "print(\"f1: \" + str(f1) )"
   ]
  },
  {
   "cell_type": "code",
   "execution_count": 9,
   "metadata": {},
   "outputs": [
    {
     "name": "stdout",
     "output_type": "stream",
     "text": [
      "[[1. 0.]\n",
      " [1. 0.]]\n"
     ]
    },
    {
     "data": {
      "image/png": "[encoded data removed]",
      "text/plain": [
       "<Figure size 640x480 with 2 Axes>"
      ]
     },
     "metadata": {},
     "output_type": "display_data"
    }
   ],
   "source": [
    "from sklearn.metrics import ConfusionMatrixDisplay\n",
    "import matplotlib.pyplot as plt\n",
    "\n",
    "\n",
    "disp = ConfusionMatrixDisplay.from_estimator(\n",
    "        model,\n",
    "        X_test,\n",
    "        Y_test,\n",
    "        display_labels=[\"NoHate\",\"Hate\"],\n",
    "        cmap=plt.cm.Blues,\n",
    "        normalize=\"true\",\n",
    "    )\n",
    "\n",
    "print(disp.confusion_matrix)\n",
    "plt.show()"
   ]
  }
 ],
 "metadata": {
  "kernelspec": {
   "display_name": "nlp",
   "language": "python",
   "name": "python3"
  },
  "language_info": {
   "codemirror_mode": {
    "name": "ipython",
    "version": 3
   },
   "file_extension": ".py",
   "mimetype": "text/x-python",
   "name": "python",
   "nbconvert_exporter": "python",
   "pygments_lexer": "ipython3",
   "version": "3.9.16"
  },
  "orig_nbformat": 4
 },
 "nbformat": 4,
 "nbformat_minor": 2
}
