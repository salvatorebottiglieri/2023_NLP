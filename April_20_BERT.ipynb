{
 "cells": [
  {
   "cell_type": "code",
   "execution_count": 6,
   "metadata": {},
   "outputs": [
    {
     "name": "stderr",
     "output_type": "stream",
     "text": [
      "/home/salvatore/miniconda3/envs/nlp/lib/python3.11/site-packages/tqdm/auto.py:21: TqdmWarning: IProgress not found. Please update jupyter and ipywidgets. See https://ipywidgets.readthedocs.io/en/stable/user_install.html\n",
      "  from .autonotebook import tqdm as notebook_tqdm\n",
      "Some weights of the model checkpoint at dbmdz/bert-base-italian-uncased were not used when initializing BertModel: ['cls.predictions.bias', 'cls.seq_relationship.weight', 'cls.predictions.decoder.weight', 'cls.seq_relationship.bias', 'cls.predictions.transform.dense.bias', 'cls.predictions.transform.LayerNorm.weight', 'cls.predictions.transform.dense.weight', 'cls.predictions.transform.LayerNorm.bias']\n",
      "- This IS expected if you are initializing BertModel from the checkpoint of a model trained on another task or with another architecture (e.g. initializing a BertForSequenceClassification model from a BertForPreTraining model).\n",
      "- This IS NOT expected if you are initializing BertModel from the checkpoint of a model that you expect to be exactly identical (initializing a BertForSequenceClassification model from a BertForSequenceClassification model).\n"
     ]
    }
   ],
   "source": [
    "from transformers import AutoModel, AutoTokenizer\n",
    "\n",
    "model_name = \"dbmdz/bert-base-italian-uncased\"\n",
    "\n",
    "tokenizer = AutoTokenizer.from_pretrained(model_name)\n",
    "\n",
    "model = AutoModel.from_pretrained(model_name)\n",
    "\n",
    "haspedee_dataset_path = 'data/haspeede2_dev_taskAB.tsv'\n",
    "\n",
    "import os\n",
    "os.environ[\"TOKENIZERS_PARALLELISM\"] = \"false\"\n",
    "\n"
   ]
  },
  {
   "cell_type": "code",
   "execution_count": 7,
   "metadata": {},
   "outputs": [],
   "source": [
    "from random import sample\n",
    "def balance_dataset(x,y_ref) -> tuple:\n",
    "    number_of_0 = [value for value in y_ref if value == '0']\n",
    "    number_of_1 = [value for value in y_ref if value != '0']\n",
    "\n",
    "    elements_to_remove = abs(len(number_of_0) - len(number_of_1))\n",
    "\n",
    "    indexes_no_hate_elements = []\n",
    "    for i,elem in enumerate(y_ref):\n",
    "        if elem == '0':\n",
    "            indexes_no_hate_elements.append(i)\n",
    "       \n",
    "    indexes_element_to_remove = sample(population=indexes_no_hate_elements,k=elements_to_remove)\n",
    "\n",
    "    x = x.drop(index=indexes_element_to_remove)\n",
    "    y_ref = [y for i,y in enumerate(y_ref) if i not in indexes_element_to_remove]\n",
    "\n",
    "    return x, y_ref"
   ]
  },
  {
   "cell_type": "code",
   "execution_count": 8,
   "metadata": {},
   "outputs": [],
   "source": [
    "# Import and initializations\n",
    "import pandas as pd\n",
    "import random\n",
    "from sklearn.metrics import accuracy_score, f1_score, recall_score, precision_score\n",
    "\n",
    "id_to_label = {\"0\":\"NoHate\", \"1\": \"Hate\"}\n",
    "text_to_id_map = {}\n",
    "\n",
    "\n",
    "def read_dataset(input_file):\n",
    "  examples = []\n",
    "  labels = []\n",
    "  with open(input_file, 'r', encoding='utf-8', errors='ignore') as f:\n",
    "      contents = f.read()\n",
    "      file_as_list = contents.splitlines()\n",
    "      random.shuffle(file_as_list)\n",
    "      for line in file_as_list:\n",
    "          if line.startswith(\"id\"):\n",
    "            continue\n",
    "          split = line.split(\"\\t\")\n",
    "          text = split[1]\n",
    "          label = split[2]\n",
    "          text_to_id_map[text] = split[0]\n",
    "          labels.append(label)\n",
    "          examples.append(text)\n",
    "      f.close()\n",
    "  return examples, labels\n"
   ]
  },
  {
   "cell_type": "code",
   "execution_count": 9,
   "metadata": {},
   "outputs": [],
   "source": [
    "\n",
    "x, y_ref = read_dataset(haspedee_dataset_path)\n"
   ]
  },
  {
   "attachments": {},
   "cell_type": "markdown",
   "metadata": {},
   "source": [
    "# Pre processing"
   ]
  },
  {
   "cell_type": "code",
   "execution_count": 10,
   "metadata": {},
   "outputs": [
    {
     "name": "stderr",
     "output_type": "stream",
     "text": [
      "2023-04-21 15:27:30.211978: I tensorflow/core/platform/cpu_feature_guard.cc:182] This TensorFlow binary is optimized to use available CPU instructions in performance-critical operations.\n",
      "To enable the following instructions: AVX2 FMA, in other operations, rebuild TensorFlow with the appropriate compiler flags.\n",
      "2023-04-21 15:27:32.091964: W tensorflow/compiler/tf2tensorrt/utils/py_utils.cc:38] TF-TRT Warning: Could not find TensorRT\n"
     ]
    }
   ],
   "source": [
    "from keras.utils import pad_sequences\n",
    "import torch\n",
    "import emoji\n",
    "\n",
    "def replace_substring_with_another_substring(text, substring_to_replace, substring_to_replace_with):\n",
    "  return text.replace(substring_to_replace, substring_to_replace_with)\n",
    "\n",
    "def is_token_length_compatible_with_bert(x):\n",
    "  max_length = 512\n",
    "  for elem in x:\n",
    "    if len(elem) > max_length:\n",
    "      return False\n",
    "  return True\n",
    "\n",
    "def token_with_max_length(x):\n",
    "  max_length_token = 0\n",
    "  for elem in x:\n",
    "      if len(elem) > max_length_token:\n",
    "        max_length_token = len(elem)\n",
    "  return max_length_token\n",
    "\n",
    "def create_attention_mask(input_id):\n",
    "  attention_masks = []\n",
    "  for sent in input_id:\n",
    "    att_mask = [int(token_id > 0) for token_id in sent]  # create a list of 0 and 1.\n",
    "    attention_masks.append(att_mask)  # basically attention_masks is a list of list\n",
    "  return attention_masks\n",
    "\n",
    "def handle_emoji(text):\n",
    "  return emoji.replace_emoji(text,\"\")\n",
    "\n",
    "# lowercase all the sentences\n",
    "x = [x.lower() for x in x]\n",
    "# delete @user and URL, because they are not useful for the classification task\n",
    "x = list(map(lambda x: replace_substring_with_another_substring(x, \"@user\", \"\"),x))\n",
    "x = list(map(lambda x: replace_substring_with_another_substring(x, \"URL\", \"\"),x))\n",
    "x = list(map(lambda x: handle_emoji(x),x))\n",
    "\n",
    "# tokenization according to the BERT tokenizer\n",
    "x = list(map(lambda x: tokenizer.encode(x,add_special_tokens=True),x))\n",
    "\n",
    "#check if every token is compatible with BERT\n",
    "if not is_token_length_compatible_with_bert(x):\n",
    "  raise Exception(\"Some token is too long for BERT\")\n",
    "\n",
    "\n",
    "\n",
    "\n",
    "# add padding for shorter sentences\n",
    "input_ids = pad_sequences(x, maxlen=token_with_max_length(x) , dtype=\"long\", value=0, truncating=\"post\", padding=\"post\")\n",
    "\n",
    "# create attention masks to avoid to attend to padding tokens\n",
    "input_masks = create_attention_mask(input_ids)\n",
    "\n",
    "# convert ids and masks to pytorch tensors\n",
    "input_ids = torch.tensor(input_ids)  \n",
    "attention_mask = torch.tensor(input_masks)\n"
   ]
  },
  {
   "cell_type": "code",
   "execution_count": 11,
   "metadata": {},
   "outputs": [
    {
     "name": "stdout",
     "output_type": "stream",
     "text": [
      "There are 1 GPU(s) available.\n",
      "We will use the GPU: NVIDIA GeForce RTX 2070 Super with Max-Q Design\n"
     ]
    }
   ],
   "source": [
    "import os\n",
    "import numpy as np\n",
    "\n",
    "# check if cuda is available\n",
    "if torch.cuda.is_available():\n",
    "    device = torch.device(\"cuda\")\n",
    "    model.to(device)\n",
    "    print('There are %d GPU(s) available.' % torch.cuda.device_count())\n",
    "    print('We will use the GPU:', torch.cuda.get_device_name(0))\n",
    "\n",
    "\n",
    "\n",
    "if not os.path.exists(os.path.join(os.getcwd(),f\"{model_name.replace('/','_')}_embeddings.csv\")):\n",
    "    # feed forward pass to BERT\n",
    "    with torch.no_grad():\n",
    "\n",
    "        input_ids = input_ids.to(device)\n",
    "        attention_mask = attention_mask.to(device)\n",
    "\n",
    "        #split input in batches of 512\n",
    "        input_ids = torch.split(input_ids, 512)\n",
    "        attention_mask = torch.split(attention_mask, 512)\n",
    "\n",
    "        # get the last hidden state of the first token of the sequence (the [CLS] token)\n",
    "        last_hidden_states = []\n",
    "        for i in range(len(input_ids)):\n",
    "            last_hidden_states.append(model(input_ids[i], attention_mask=attention_mask[i])[0][:,0,:].detach().cpu().numpy())\n",
    "\n",
    "\n",
    "        cls_tokens = np.concatenate(last_hidden_states, axis=0) \n",
    "\n",
    "        # save the embeddings\n",
    "        \n",
    "\n",
    "    np.savetxt(f\"{model_name.replace('/','_') }_embeddings.csv\",cls_tokens,delimiter=\",\")\n"
   ]
  },
  {
   "cell_type": "code",
   "execution_count": 12,
   "metadata": {},
   "outputs": [
    {
     "name": "stderr",
     "output_type": "stream",
     "text": [
      "This version of python seems to be incorrectly compiled\n",
      "(internal generated filenames are not absolute).\n",
      "This may make the debugger miss breakpoints.\n",
      "Related bug: http://bugs.python.org/issue1666807\n",
      "This version of python seems to be incorrectly compiled\n",
      "(internal generated filenames are not absolute).\n",
      "This may make the debugger miss breakpoints.\n",
      "Related bug: http://bugs.python.org/issue1666807\n",
      "This version of python seems to be incorrectly compiled\n",
      "(internal generated filenames are not absolute).\n",
      "This may make the debugger miss breakpoints.\n",
      "Related bug: http://bugs.python.org/issue1666807\n",
      "This version of python seems to be incorrectly compiled\n",
      "(internal generated filenames are not absolute).\n",
      "This may make the debugger miss breakpoints.\n",
      "Related bug: http://bugs.python.org/issue1666807\n",
      "This version of python seems to be incorrectly compiled\n",
      "(internal generated filenames are not absolute).\n",
      "This may make the debugger miss breakpoints.\n",
      "Related bug: http://bugs.python.org/issue1666807\n",
      "This version of python seems to be incorrectly compiled\n",
      "(internal generated filenames are not absolute).\n",
      "This may make the debugger miss breakpoints.\n",
      "Related bug: http://bugs.python.org/issue1666807\n",
      "This version of python seems to be incorrectly compiled\n",
      "(internal generated filenames are not absolute).\n",
      "This may make the debugger miss breakpoints.\n",
      "Related bug: http://bugs.python.org/issue1666807\n",
      "This version of python seems to be incorrectly compiled\n",
      "(internal generated filenames are not absolute).\n",
      "This may make the debugger miss breakpoints.\n",
      "Related bug: http://bugs.python.org/issue1666807\n",
      "This version of python seems to be incorrectly compiled\n",
      "(internal generated filenames are not absolute).\n",
      "This may make the debugger miss breakpoints.\n",
      "Related bug: http://bugs.python.org/issue1666807\n",
      "This version of python seems to be incorrectly compiled\n",
      "(internal generated filenames are not absolute).\n",
      "This may make the debugger miss breakpoints.\n",
      "Related bug: http://bugs.python.org/issue1666807\n",
      "This version of python seems to be incorrectly compiled\n",
      "(internal generated filenames are not absolute).\n",
      "This may make the debugger miss breakpoints.\n",
      "Related bug: http://bugs.python.org/issue1666807\n",
      "This version of python seems to be incorrectly compiled\n",
      "(internal generated filenames are not absolute).\n",
      "This may make the debugger miss breakpoints.\n",
      "Related bug: http://bugs.python.org/issue1666807\n",
      "This version of python seems to be incorrectly compiled\n",
      "(internal generated filenames are not absolute).\n",
      "This may make the debugger miss breakpoints.\n",
      "Related bug: http://bugs.python.org/issue1666807\n",
      "This version of python seems to be incorrectly compiled\n",
      "(internal generated filenames are not absolute).\n",
      "This may make the debugger miss breakpoints.\n",
      "Related bug: http://bugs.python.org/issue1666807\n"
     ]
    }
   ],
   "source": [
    "from sklearn.linear_model import LogisticRegressionCV\n",
    "from sklearn.model_selection import train_test_split, KFold\n",
    "\n",
    "\n",
    "dataset = pd.read_csv(f\"{model_name.replace('/','_')}_embeddings.csv\",header=None)\n",
    "\n",
    "dataset,y_ref = balance_dataset(dataset,y_ref)\n",
    "\n",
    "#apply pca to reduce the dimensionality of the embeddings\n",
    "from sklearn.decomposition import PCA\n",
    "pca = PCA(n_components=400)\n",
    "pca.fit(dataset)\n",
    "dataset = pca.transform(dataset)\n",
    "\n",
    "X_train, X_test, Y_train, Y_test = train_test_split(dataset,y_ref,test_size=0.30,random_state=454657)\n",
    "\n",
    "model = LogisticRegressionCV(n_jobs=-1,cv=KFold(n_splits=10,random_state=23445547,shuffle=True),solver='liblinear')\n",
    "\n",
    "model.fit(X_train,Y_train)\n",
    "\n",
    "y_hyp = model.predict(X_test)"
   ]
  },
  {
   "cell_type": "code",
   "execution_count": 13,
   "metadata": {},
   "outputs": [
    {
     "name": "stdout",
     "output_type": "stream",
     "text": [
      "precision: 0.5018094089264173\n",
      "recall: 0.5006016847172082\n",
      "accuracy: 0.5012048192771085\n",
      "f1: 0.5012048192771084\n"
     ]
    }
   ],
   "source": [
    "# Evaluate your results with these metrics\n",
    "a = accuracy_score(Y_test,y_hyp)\n",
    "p = precision_score(Y_test, y_hyp, pos_label=\"1\")\n",
    "r = recall_score(Y_test, y_hyp, pos_label=\"1\")\n",
    "f1 = f1_score(Y_test, y_hyp, pos_label=\"1\")\n",
    "print(\"precision: \" + str(p) )\n",
    "print(\"recall: \" + str(r) )\n",
    "print(\"accuracy: \" + str(a) )\n",
    "print(\"f1: \" + str(f1) )"
   ]
  },
  {
   "cell_type": "code",
   "execution_count": 14,
   "metadata": {},
   "outputs": [
    {
     "name": "stdout",
     "output_type": "stream",
     "text": [
      "[[0.50180941 0.49819059]\n",
      " [0.49939832 0.50060168]]\n"
     ]
    },
    {
     "data": {
      "image/png": "[encoded data removed]",
      "text/plain": [
       "<Figure size 640x480 with 2 Axes>"
      ]
     },
     "metadata": {},
     "output_type": "display_data"
    }
   ],
   "source": [
    "from sklearn.metrics import ConfusionMatrixDisplay\n",
    "import matplotlib.pyplot as plt\n",
    "\n",
    "\n",
    "disp = ConfusionMatrixDisplay.from_estimator(\n",
    "        model,\n",
    "        X_test,\n",
    "        Y_test,\n",
    "        display_labels=[\"NoHate\",\"Hate\"],\n",
    "        cmap=plt.cm.Blues,\n",
    "        normalize=\"true\",\n",
    "    )\n",
    "\n",
    "print(disp.confusion_matrix)\n",
    "plt.show()"
   ]
  },
  {
   "cell_type": "code",
   "execution_count": 15,
   "metadata": {},
   "outputs": [
    {
     "ename": "KeyboardInterrupt",
     "evalue": "",
     "output_type": "error",
     "traceback": [
      "\u001b[0;31m---------------------------------------------------------------------------\u001b[0m",
      "\u001b[0;31mKeyboardInterrupt\u001b[0m                         Traceback (most recent call last)",
      "Cell \u001b[0;32mIn[15], line 16\u001b[0m\n\u001b[1;32m     14\u001b[0m plt\u001b[39m.\u001b[39mfigure(figsize\u001b[39m=\u001b[39m(\u001b[39m10\u001b[39m,\u001b[39m10\u001b[39m))\n\u001b[1;32m     15\u001b[0m \u001b[39mfor\u001b[39;00m i \u001b[39min\u001b[39;00m \u001b[39mrange\u001b[39m(\u001b[39mlen\u001b[39m(dataset)):\n\u001b[0;32m---> 16\u001b[0m   plt\u001b[39m.\u001b[39;49mscatter(dataset[i,\u001b[39m0\u001b[39;49m],dataset[i,\u001b[39m1\u001b[39;49m])\n\u001b[1;32m     17\u001b[0m   plt\u001b[39m.\u001b[39mannotate(y_ref[i],(dataset[i,\u001b[39m0\u001b[39m],dataset[i,\u001b[39m1\u001b[39m]))\n\u001b[1;32m     18\u001b[0m plt\u001b[39m.\u001b[39mtitle(\u001b[39m'\u001b[39m\u001b[39m2D PCA projection of embedded sentences from BERT\u001b[39m\u001b[39m'\u001b[39m)\n",
      "File \u001b[0;32m~/miniconda3/envs/nlp/lib/python3.11/site-packages/matplotlib/pyplot.py:2862\u001b[0m, in \u001b[0;36mscatter\u001b[0;34m(x, y, s, c, marker, cmap, norm, vmin, vmax, alpha, linewidths, edgecolors, plotnonfinite, data, **kwargs)\u001b[0m\n\u001b[1;32m   2857\u001b[0m \u001b[39m@_copy_docstring_and_deprecators\u001b[39m(Axes\u001b[39m.\u001b[39mscatter)\n\u001b[1;32m   2858\u001b[0m \u001b[39mdef\u001b[39;00m \u001b[39mscatter\u001b[39m(\n\u001b[1;32m   2859\u001b[0m         x, y, s\u001b[39m=\u001b[39m\u001b[39mNone\u001b[39;00m, c\u001b[39m=\u001b[39m\u001b[39mNone\u001b[39;00m, marker\u001b[39m=\u001b[39m\u001b[39mNone\u001b[39;00m, cmap\u001b[39m=\u001b[39m\u001b[39mNone\u001b[39;00m, norm\u001b[39m=\u001b[39m\u001b[39mNone\u001b[39;00m,\n\u001b[1;32m   2860\u001b[0m         vmin\u001b[39m=\u001b[39m\u001b[39mNone\u001b[39;00m, vmax\u001b[39m=\u001b[39m\u001b[39mNone\u001b[39;00m, alpha\u001b[39m=\u001b[39m\u001b[39mNone\u001b[39;00m, linewidths\u001b[39m=\u001b[39m\u001b[39mNone\u001b[39;00m, \u001b[39m*\u001b[39m,\n\u001b[1;32m   2861\u001b[0m         edgecolors\u001b[39m=\u001b[39m\u001b[39mNone\u001b[39;00m, plotnonfinite\u001b[39m=\u001b[39m\u001b[39mFalse\u001b[39;00m, data\u001b[39m=\u001b[39m\u001b[39mNone\u001b[39;00m, \u001b[39m*\u001b[39m\u001b[39m*\u001b[39mkwargs):\n\u001b[0;32m-> 2862\u001b[0m     __ret \u001b[39m=\u001b[39m gca()\u001b[39m.\u001b[39;49mscatter(\n\u001b[1;32m   2863\u001b[0m         x, y, s\u001b[39m=\u001b[39;49ms, c\u001b[39m=\u001b[39;49mc, marker\u001b[39m=\u001b[39;49mmarker, cmap\u001b[39m=\u001b[39;49mcmap, norm\u001b[39m=\u001b[39;49mnorm,\n\u001b[1;32m   2864\u001b[0m         vmin\u001b[39m=\u001b[39;49mvmin, vmax\u001b[39m=\u001b[39;49mvmax, alpha\u001b[39m=\u001b[39;49malpha, linewidths\u001b[39m=\u001b[39;49mlinewidths,\n\u001b[1;32m   2865\u001b[0m         edgecolors\u001b[39m=\u001b[39;49medgecolors, plotnonfinite\u001b[39m=\u001b[39;49mplotnonfinite,\n\u001b[1;32m   2866\u001b[0m         \u001b[39m*\u001b[39;49m\u001b[39m*\u001b[39;49m({\u001b[39m\"\u001b[39;49m\u001b[39mdata\u001b[39;49m\u001b[39m\"\u001b[39;49m: data} \u001b[39mif\u001b[39;49;00m data \u001b[39mis\u001b[39;49;00m \u001b[39mnot\u001b[39;49;00m \u001b[39mNone\u001b[39;49;00m \u001b[39melse\u001b[39;49;00m {}), \u001b[39m*\u001b[39;49m\u001b[39m*\u001b[39;49mkwargs)\n\u001b[1;32m   2867\u001b[0m     sci(__ret)\n\u001b[1;32m   2868\u001b[0m     \u001b[39mreturn\u001b[39;00m __ret\n",
      "File \u001b[0;32m~/miniconda3/envs/nlp/lib/python3.11/site-packages/matplotlib/__init__.py:1442\u001b[0m, in \u001b[0;36m_preprocess_data.<locals>.inner\u001b[0;34m(ax, data, *args, **kwargs)\u001b[0m\n\u001b[1;32m   1439\u001b[0m \u001b[39m@functools\u001b[39m\u001b[39m.\u001b[39mwraps(func)\n\u001b[1;32m   1440\u001b[0m \u001b[39mdef\u001b[39;00m \u001b[39minner\u001b[39m(ax, \u001b[39m*\u001b[39margs, data\u001b[39m=\u001b[39m\u001b[39mNone\u001b[39;00m, \u001b[39m*\u001b[39m\u001b[39m*\u001b[39mkwargs):\n\u001b[1;32m   1441\u001b[0m     \u001b[39mif\u001b[39;00m data \u001b[39mis\u001b[39;00m \u001b[39mNone\u001b[39;00m:\n\u001b[0;32m-> 1442\u001b[0m         \u001b[39mreturn\u001b[39;00m func(ax, \u001b[39m*\u001b[39;49m\u001b[39mmap\u001b[39;49m(sanitize_sequence, args), \u001b[39m*\u001b[39;49m\u001b[39m*\u001b[39;49mkwargs)\n\u001b[1;32m   1444\u001b[0m     bound \u001b[39m=\u001b[39m new_sig\u001b[39m.\u001b[39mbind(ax, \u001b[39m*\u001b[39margs, \u001b[39m*\u001b[39m\u001b[39m*\u001b[39mkwargs)\n\u001b[1;32m   1445\u001b[0m     auto_label \u001b[39m=\u001b[39m (bound\u001b[39m.\u001b[39marguments\u001b[39m.\u001b[39mget(label_namer)\n\u001b[1;32m   1446\u001b[0m                   \u001b[39mor\u001b[39;00m bound\u001b[39m.\u001b[39mkwargs\u001b[39m.\u001b[39mget(label_namer))\n",
      "File \u001b[0;32m~/miniconda3/envs/nlp/lib/python3.11/site-packages/matplotlib/axes/_axes.py:4711\u001b[0m, in \u001b[0;36mAxes.scatter\u001b[0;34m(self, x, y, s, c, marker, cmap, norm, vmin, vmax, alpha, linewidths, edgecolors, plotnonfinite, **kwargs)\u001b[0m\n\u001b[1;32m   4708\u001b[0m     \u001b[39mif\u001b[39;00m \u001b[39mself\u001b[39m\u001b[39m.\u001b[39m_ymargin \u001b[39m<\u001b[39m \u001b[39m0.05\u001b[39m \u001b[39mand\u001b[39;00m x\u001b[39m.\u001b[39msize \u001b[39m>\u001b[39m \u001b[39m0\u001b[39m:\n\u001b[1;32m   4709\u001b[0m         \u001b[39mself\u001b[39m\u001b[39m.\u001b[39mset_ymargin(\u001b[39m0.05\u001b[39m)\n\u001b[0;32m-> 4711\u001b[0m \u001b[39mself\u001b[39;49m\u001b[39m.\u001b[39;49madd_collection(collection)\n\u001b[1;32m   4712\u001b[0m \u001b[39mself\u001b[39m\u001b[39m.\u001b[39m_request_autoscale_view()\n\u001b[1;32m   4714\u001b[0m \u001b[39mreturn\u001b[39;00m collection\n",
      "File \u001b[0;32m~/miniconda3/envs/nlp/lib/python3.11/site-packages/matplotlib/axes/_base.py:2263\u001b[0m, in \u001b[0;36m_AxesBase.add_collection\u001b[0;34m(self, collection, autolim)\u001b[0m\n\u001b[1;32m   2258\u001b[0m     collection\u001b[39m.\u001b[39mset_clip_path(\u001b[39mself\u001b[39m\u001b[39m.\u001b[39mpatch)\n\u001b[1;32m   2260\u001b[0m \u001b[39mif\u001b[39;00m autolim:\n\u001b[1;32m   2261\u001b[0m     \u001b[39m# Make sure viewLim is not stale (mostly to match\u001b[39;00m\n\u001b[1;32m   2262\u001b[0m     \u001b[39m# pre-lazy-autoscale behavior, which is not really better).\u001b[39;00m\n\u001b[0;32m-> 2263\u001b[0m     \u001b[39mself\u001b[39;49m\u001b[39m.\u001b[39;49m_unstale_viewLim()\n\u001b[1;32m   2264\u001b[0m     datalim \u001b[39m=\u001b[39m collection\u001b[39m.\u001b[39mget_datalim(\u001b[39mself\u001b[39m\u001b[39m.\u001b[39mtransData)\n\u001b[1;32m   2265\u001b[0m     points \u001b[39m=\u001b[39m datalim\u001b[39m.\u001b[39mget_points()\n",
      "File \u001b[0;32m~/miniconda3/envs/nlp/lib/python3.11/site-packages/matplotlib/axes/_base.py:852\u001b[0m, in \u001b[0;36m_AxesBase._unstale_viewLim\u001b[0;34m(self)\u001b[0m\n\u001b[1;32m    850\u001b[0m     \u001b[39mfor\u001b[39;00m ax \u001b[39min\u001b[39;00m \u001b[39mself\u001b[39m\u001b[39m.\u001b[39m_shared_axes[name]\u001b[39m.\u001b[39mget_siblings(\u001b[39mself\u001b[39m):\n\u001b[1;32m    851\u001b[0m         ax\u001b[39m.\u001b[39m_stale_viewlims[name] \u001b[39m=\u001b[39m \u001b[39mFalse\u001b[39;00m\n\u001b[0;32m--> 852\u001b[0m \u001b[39mself\u001b[39;49m\u001b[39m.\u001b[39;49mautoscale_view(\u001b[39m*\u001b[39;49m\u001b[39m*\u001b[39;49m{\u001b[39mf\u001b[39;49m\u001b[39m\"\u001b[39;49m\u001b[39mscale\u001b[39;49m\u001b[39m{\u001b[39;49;00mname\u001b[39m}\u001b[39;49;00m\u001b[39m\"\u001b[39;49m: scale\n\u001b[1;32m    853\u001b[0m                        \u001b[39mfor\u001b[39;49;00m name, scale \u001b[39min\u001b[39;49;00m need_scale\u001b[39m.\u001b[39;49mitems()})\n",
      "File \u001b[0;32m~/miniconda3/envs/nlp/lib/python3.11/site-packages/matplotlib/axes/_base.py:2930\u001b[0m, in \u001b[0;36m_AxesBase.autoscale_view\u001b[0;34m(self, tight, scalex, scaley)\u001b[0m\n\u001b[1;32m   2927\u001b[0m     set_bound(x0, x1)\n\u001b[1;32m   2928\u001b[0m     \u001b[39m# End of definition of internal function 'handle_single_axis'.\u001b[39;00m\n\u001b[0;32m-> 2930\u001b[0m handle_single_axis(\n\u001b[1;32m   2931\u001b[0m     scalex, \u001b[39mself\u001b[39;49m\u001b[39m.\u001b[39;49m_shared_axes[\u001b[39m\"\u001b[39;49m\u001b[39mx\u001b[39;49m\u001b[39m\"\u001b[39;49m], \u001b[39m'\u001b[39;49m\u001b[39mx\u001b[39;49m\u001b[39m'\u001b[39;49m, \u001b[39mself\u001b[39;49m\u001b[39m.\u001b[39;49mxaxis, \u001b[39mself\u001b[39;49m\u001b[39m.\u001b[39;49m_xmargin,\n\u001b[1;32m   2932\u001b[0m     x_stickies, \u001b[39mself\u001b[39;49m\u001b[39m.\u001b[39;49mset_xbound)\n\u001b[1;32m   2933\u001b[0m handle_single_axis(\n\u001b[1;32m   2934\u001b[0m     scaley, \u001b[39mself\u001b[39m\u001b[39m.\u001b[39m_shared_axes[\u001b[39m\"\u001b[39m\u001b[39my\u001b[39m\u001b[39m\"\u001b[39m], \u001b[39m'\u001b[39m\u001b[39my\u001b[39m\u001b[39m'\u001b[39m, \u001b[39mself\u001b[39m\u001b[39m.\u001b[39myaxis, \u001b[39mself\u001b[39m\u001b[39m.\u001b[39m_ymargin,\n\u001b[1;32m   2935\u001b[0m     y_stickies, \u001b[39mself\u001b[39m\u001b[39m.\u001b[39mset_ybound)\n",
      "File \u001b[0;32m~/miniconda3/envs/nlp/lib/python3.11/site-packages/matplotlib/axes/_base.py:2927\u001b[0m, in \u001b[0;36m_AxesBase.autoscale_view.<locals>.handle_single_axis\u001b[0;34m(scale, shared_axes, name, axis, margin, stickies, set_bound)\u001b[0m\n\u001b[1;32m   2925\u001b[0m \u001b[39mif\u001b[39;00m \u001b[39mnot\u001b[39;00m \u001b[39mself\u001b[39m\u001b[39m.\u001b[39m_tight:\n\u001b[1;32m   2926\u001b[0m     x0, x1 \u001b[39m=\u001b[39m locator\u001b[39m.\u001b[39mview_limits(x0, x1)\n\u001b[0;32m-> 2927\u001b[0m set_bound(x0, x1)\n",
      "File \u001b[0;32m~/miniconda3/envs/nlp/lib/python3.11/site-packages/matplotlib/axes/_base.py:3530\u001b[0m, in \u001b[0;36m_AxesBase.set_xbound\u001b[0;34m(self, lower, upper)\u001b[0m\n\u001b[1;32m   3527\u001b[0m \u001b[39mif\u001b[39;00m upper \u001b[39mis\u001b[39;00m \u001b[39mNone\u001b[39;00m:\n\u001b[1;32m   3528\u001b[0m     upper \u001b[39m=\u001b[39m old_upper\n\u001b[0;32m-> 3530\u001b[0m \u001b[39mself\u001b[39;49m\u001b[39m.\u001b[39;49mset_xlim(\u001b[39msorted\u001b[39;49m((lower, upper),\n\u001b[1;32m   3531\u001b[0m                      reverse\u001b[39m=\u001b[39;49m\u001b[39mbool\u001b[39;49m(\u001b[39mself\u001b[39;49m\u001b[39m.\u001b[39;49mxaxis_inverted())),\n\u001b[1;32m   3532\u001b[0m               auto\u001b[39m=\u001b[39;49m\u001b[39mNone\u001b[39;49;00m)\n",
      "File \u001b[0;32m~/miniconda3/envs/nlp/lib/python3.11/site-packages/matplotlib/_api/deprecation.py:454\u001b[0m, in \u001b[0;36mmake_keyword_only.<locals>.wrapper\u001b[0;34m(*args, **kwargs)\u001b[0m\n\u001b[1;32m    448\u001b[0m \u001b[39mif\u001b[39;00m \u001b[39mlen\u001b[39m(args) \u001b[39m>\u001b[39m name_idx:\n\u001b[1;32m    449\u001b[0m     warn_deprecated(\n\u001b[1;32m    450\u001b[0m         since, message\u001b[39m=\u001b[39m\u001b[39m\"\u001b[39m\u001b[39mPassing the \u001b[39m\u001b[39m%(name)s\u001b[39;00m\u001b[39m \u001b[39m\u001b[39m%(obj_type)s\u001b[39;00m\u001b[39m \u001b[39m\u001b[39m\"\u001b[39m\n\u001b[1;32m    451\u001b[0m         \u001b[39m\"\u001b[39m\u001b[39mpositionally is deprecated since Matplotlib \u001b[39m\u001b[39m%(since)s\u001b[39;00m\u001b[39m; the \u001b[39m\u001b[39m\"\u001b[39m\n\u001b[1;32m    452\u001b[0m         \u001b[39m\"\u001b[39m\u001b[39mparameter will become keyword-only \u001b[39m\u001b[39m%(removal)s\u001b[39;00m\u001b[39m.\u001b[39m\u001b[39m\"\u001b[39m,\n\u001b[1;32m    453\u001b[0m         name\u001b[39m=\u001b[39mname, obj_type\u001b[39m=\u001b[39m\u001b[39mf\u001b[39m\u001b[39m\"\u001b[39m\u001b[39mparameter of \u001b[39m\u001b[39m{\u001b[39;00mfunc\u001b[39m.\u001b[39m\u001b[39m__name__\u001b[39m\u001b[39m}\u001b[39;00m\u001b[39m()\u001b[39m\u001b[39m\"\u001b[39m)\n\u001b[0;32m--> 454\u001b[0m \u001b[39mreturn\u001b[39;00m func(\u001b[39m*\u001b[39;49margs, \u001b[39m*\u001b[39;49m\u001b[39m*\u001b[39;49mkwargs)\n",
      "File \u001b[0;32m~/miniconda3/envs/nlp/lib/python3.11/site-packages/matplotlib/axes/_base.py:3650\u001b[0m, in \u001b[0;36m_AxesBase.set_xlim\u001b[0;34m(self, left, right, emit, auto, xmin, xmax)\u001b[0m\n\u001b[1;32m   3648\u001b[0m         \u001b[39mraise\u001b[39;00m \u001b[39mTypeError\u001b[39;00m(\u001b[39m\"\u001b[39m\u001b[39mCannot pass both \u001b[39m\u001b[39m'\u001b[39m\u001b[39mright\u001b[39m\u001b[39m'\u001b[39m\u001b[39m and \u001b[39m\u001b[39m'\u001b[39m\u001b[39mxmax\u001b[39m\u001b[39m'\u001b[39m\u001b[39m\"\u001b[39m)\n\u001b[1;32m   3649\u001b[0m     right \u001b[39m=\u001b[39m xmax\n\u001b[0;32m-> 3650\u001b[0m \u001b[39mreturn\u001b[39;00m \u001b[39mself\u001b[39;49m\u001b[39m.\u001b[39;49mxaxis\u001b[39m.\u001b[39;49m_set_lim(left, right, emit\u001b[39m=\u001b[39;49memit, auto\u001b[39m=\u001b[39;49mauto)\n",
      "File \u001b[0;32m~/miniconda3/envs/nlp/lib/python3.11/site-packages/matplotlib/axis.py:1217\u001b[0m, in \u001b[0;36mAxis._set_lim\u001b[0;34m(self, v0, v1, emit, auto)\u001b[0m\n\u001b[1;32m   1214\u001b[0m v0, v1 \u001b[39m=\u001b[39m \u001b[39mself\u001b[39m\u001b[39m.\u001b[39mlimit_range_for_scale(v0, v1)\n\u001b[1;32m   1215\u001b[0m v0, v1 \u001b[39m=\u001b[39m \u001b[39msorted\u001b[39m([v0, v1], reverse\u001b[39m=\u001b[39m\u001b[39mbool\u001b[39m(reverse))\n\u001b[0;32m-> 1217\u001b[0m \u001b[39mself\u001b[39;49m\u001b[39m.\u001b[39;49mset_view_interval(v0, v1, ignore\u001b[39m=\u001b[39;49m\u001b[39mTrue\u001b[39;49;00m)\n\u001b[1;32m   1218\u001b[0m \u001b[39m# Mark viewlims as no longer stale without triggering an autoscale.\u001b[39;00m\n\u001b[1;32m   1219\u001b[0m \u001b[39mfor\u001b[39;00m ax \u001b[39min\u001b[39;00m \u001b[39mself\u001b[39m\u001b[39m.\u001b[39maxes\u001b[39m.\u001b[39m_shared_axes[name]\u001b[39m.\u001b[39mget_siblings(\u001b[39mself\u001b[39m\u001b[39m.\u001b[39maxes):\n",
      "File \u001b[0;32m~/miniconda3/envs/nlp/lib/python3.11/site-packages/matplotlib/axis.py:2211\u001b[0m, in \u001b[0;36m_make_getset_interval.<locals>.setter\u001b[0;34m(self, vmin, vmax, ignore)\u001b[0m\n\u001b[1;32m   2208\u001b[0m \u001b[39mdef\u001b[39;00m \u001b[39msetter\u001b[39m(\u001b[39mself\u001b[39m, vmin, vmax, ignore\u001b[39m=\u001b[39m\u001b[39mFalse\u001b[39;00m):\n\u001b[1;32m   2209\u001b[0m     \u001b[39m# docstring inherited.\u001b[39;00m\n\u001b[1;32m   2210\u001b[0m     \u001b[39mif\u001b[39;00m ignore:\n\u001b[0;32m-> 2211\u001b[0m         \u001b[39msetattr\u001b[39m(\u001b[39mgetattr\u001b[39;49m(\u001b[39mself\u001b[39;49m\u001b[39m.\u001b[39;49maxes, lim_name), attr_name, (vmin, vmax))\n\u001b[1;32m   2212\u001b[0m     \u001b[39melse\u001b[39;00m:\n\u001b[1;32m   2213\u001b[0m         oldmin, oldmax \u001b[39m=\u001b[39m getter(\u001b[39mself\u001b[39m)\n",
      "File \u001b[0;32m~/miniconda3/envs/nlp/lib/python3.11/site-packages/matplotlib/axes/_base.py:857\u001b[0m, in \u001b[0;36m_AxesBase.viewLim\u001b[0;34m(self)\u001b[0m\n\u001b[1;32m    855\u001b[0m \u001b[39m@property\u001b[39m\n\u001b[1;32m    856\u001b[0m \u001b[39mdef\u001b[39;00m \u001b[39mviewLim\u001b[39m(\u001b[39mself\u001b[39m):\n\u001b[0;32m--> 857\u001b[0m     \u001b[39mself\u001b[39;49m\u001b[39m.\u001b[39;49m_unstale_viewLim()\n\u001b[1;32m    858\u001b[0m     \u001b[39mreturn\u001b[39;00m \u001b[39mself\u001b[39m\u001b[39m.\u001b[39m_viewLim\n",
      "File \u001b[0;32m~/miniconda3/envs/nlp/lib/python3.11/site-packages/matplotlib/axes/_base.py:844\u001b[0m, in \u001b[0;36m_AxesBase._unstale_viewLim\u001b[0;34m(self)\u001b[0m\n\u001b[1;32m    841\u001b[0m \u001b[39mdef\u001b[39;00m \u001b[39m_unstale_viewLim\u001b[39m(\u001b[39mself\u001b[39m):\n\u001b[1;32m    842\u001b[0m     \u001b[39m# We should arrange to store this information once per share-group\u001b[39;00m\n\u001b[1;32m    843\u001b[0m     \u001b[39m# instead of on every axis.\u001b[39;00m\n\u001b[0;32m--> 844\u001b[0m     need_scale \u001b[39m=\u001b[39m {\n\u001b[1;32m    845\u001b[0m         name: \u001b[39many\u001b[39;49m(ax\u001b[39m.\u001b[39;49m_stale_viewlims[name]\n\u001b[1;32m    846\u001b[0m                   \u001b[39mfor\u001b[39;49;00m ax \u001b[39min\u001b[39;49;00m \u001b[39mself\u001b[39;49m\u001b[39m.\u001b[39;49m_shared_axes[name]\u001b[39m.\u001b[39;49mget_siblings(\u001b[39mself\u001b[39;49m))\n\u001b[1;32m    847\u001b[0m         \u001b[39mfor\u001b[39;49;00m name \u001b[39min\u001b[39;49;00m \u001b[39mself\u001b[39;49m\u001b[39m.\u001b[39;49m_axis_names}\n\u001b[1;32m    848\u001b[0m     \u001b[39mif\u001b[39;00m \u001b[39many\u001b[39m(need_scale\u001b[39m.\u001b[39mvalues()):\n\u001b[1;32m    849\u001b[0m         \u001b[39mfor\u001b[39;00m name \u001b[39min\u001b[39;00m need_scale:\n",
      "File \u001b[0;32m~/miniconda3/envs/nlp/lib/python3.11/site-packages/matplotlib/axes/_base.py:846\u001b[0m, in \u001b[0;36m<dictcomp>\u001b[0;34m(.0)\u001b[0m\n\u001b[1;32m    841\u001b[0m \u001b[39mdef\u001b[39;00m \u001b[39m_unstale_viewLim\u001b[39m(\u001b[39mself\u001b[39m):\n\u001b[1;32m    842\u001b[0m     \u001b[39m# We should arrange to store this information once per share-group\u001b[39;00m\n\u001b[1;32m    843\u001b[0m     \u001b[39m# instead of on every axis.\u001b[39;00m\n\u001b[1;32m    844\u001b[0m     need_scale \u001b[39m=\u001b[39m {\n\u001b[1;32m    845\u001b[0m         name: \u001b[39many\u001b[39m(ax\u001b[39m.\u001b[39m_stale_viewlims[name]\n\u001b[0;32m--> 846\u001b[0m                   \u001b[39mfor\u001b[39;00m ax \u001b[39min\u001b[39;00m \u001b[39mself\u001b[39;49m\u001b[39m.\u001b[39;49m_shared_axes[name]\u001b[39m.\u001b[39;49mget_siblings(\u001b[39mself\u001b[39;49m))\n\u001b[1;32m    847\u001b[0m         \u001b[39mfor\u001b[39;00m name \u001b[39min\u001b[39;00m \u001b[39mself\u001b[39m\u001b[39m.\u001b[39m_axis_names}\n\u001b[1;32m    848\u001b[0m     \u001b[39mif\u001b[39;00m \u001b[39many\u001b[39m(need_scale\u001b[39m.\u001b[39mvalues()):\n\u001b[1;32m    849\u001b[0m         \u001b[39mfor\u001b[39;00m name \u001b[39min\u001b[39;00m need_scale:\n",
      "File \u001b[0;32m~/miniconda3/envs/nlp/lib/python3.11/site-packages/matplotlib/cbook/__init__.py:882\u001b[0m, in \u001b[0;36mGrouper.get_siblings\u001b[0;34m(self, a)\u001b[0m\n\u001b[1;32m    880\u001b[0m \u001b[39mdef\u001b[39;00m \u001b[39mget_siblings\u001b[39m(\u001b[39mself\u001b[39m, a):\n\u001b[1;32m    881\u001b[0m \u001b[39m    \u001b[39m\u001b[39m\"\"\"Return all of the items joined with *a*, including itself.\"\"\"\u001b[39;00m\n\u001b[0;32m--> 882\u001b[0m     \u001b[39mself\u001b[39;49m\u001b[39m.\u001b[39;49mclean()\n\u001b[1;32m    883\u001b[0m     siblings \u001b[39m=\u001b[39m \u001b[39mself\u001b[39m\u001b[39m.\u001b[39m_mapping\u001b[39m.\u001b[39mget(weakref\u001b[39m.\u001b[39mref(a), [weakref\u001b[39m.\u001b[39mref(a)])\n\u001b[1;32m    884\u001b[0m     \u001b[39mreturn\u001b[39;00m [x() \u001b[39mfor\u001b[39;00m x \u001b[39min\u001b[39;00m siblings]\n",
      "File \u001b[0;32m~/miniconda3/envs/nlp/lib/python3.11/site-packages/matplotlib/cbook/__init__.py:831\u001b[0m, in \u001b[0;36mGrouper.clean\u001b[0;34m(self)\u001b[0m\n\u001b[1;32m    828\u001b[0m \u001b[39mdef\u001b[39;00m \u001b[39m__contains__\u001b[39m(\u001b[39mself\u001b[39m, item):\n\u001b[1;32m    829\u001b[0m     \u001b[39mreturn\u001b[39;00m weakref\u001b[39m.\u001b[39mref(item) \u001b[39min\u001b[39;00m \u001b[39mself\u001b[39m\u001b[39m.\u001b[39m_mapping\n\u001b[0;32m--> 831\u001b[0m \u001b[39mdef\u001b[39;00m \u001b[39mclean\u001b[39m(\u001b[39mself\u001b[39m):\n\u001b[1;32m    832\u001b[0m \u001b[39m    \u001b[39m\u001b[39m\"\"\"Clean dead weak references from the dictionary.\"\"\"\u001b[39;00m\n\u001b[1;32m    833\u001b[0m     mapping \u001b[39m=\u001b[39m \u001b[39mself\u001b[39m\u001b[39m.\u001b[39m_mapping\n",
      "\u001b[0;31mKeyboardInterrupt\u001b[0m: "
     ]
    }
   ],
   "source": [
    "import pandas as pd\n",
    "model_name = \"dbmdz_bert-base-italian-uncased\"\n",
    "dataset = pd.read_csv(f\"{model_name.replace('/','_')}_embeddings.csv\",header=None)\n",
    "import matplotlib.pyplot as plt\n",
    "\n",
    "\n",
    "#apply pca to reduce the dimensionality of the embeddings\n",
    "from sklearn.decomposition import PCA\n",
    "pca = PCA(n_components=2)\n",
    "pca.fit(dataset)\n",
    "dataset = pca.transform(dataset)\n",
    "\n",
    "a = 1\n",
    "plt.figure(figsize=(10,10))\n",
    "for i in range(len(dataset)):\n",
    "  plt.scatter(dataset[i,0],dataset[i,1])\n",
    "  plt.annotate(y_ref[i],(dataset[i,0],dataset[i,1]))\n",
    "plt.title('2D PCA projection of embedded sentences from BERT')"
   ]
  }
 ],
 "metadata": {
  "kernelspec": {
   "display_name": "nlp",
   "language": "python",
   "name": "python3"
  },
  "language_info": {
   "codemirror_mode": {
    "name": "ipython",
    "version": 3
   },
   "file_extension": ".py",
   "mimetype": "text/x-python",
   "name": "python",
   "nbconvert_exporter": "python",
   "pygments_lexer": "ipython3",
   "version": "3.11.2"
  },
  "orig_nbformat": 4
 },
 "nbformat": 4,
 "nbformat_minor": 2
}
