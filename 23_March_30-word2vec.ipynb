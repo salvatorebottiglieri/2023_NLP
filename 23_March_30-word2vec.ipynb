{
 "cells": [
  {
   "cell_type": "markdown",
   "metadata": {
    "collapsed": false
   },
   "source": [
    "# Embeddings Exercise\n",
    "## Preparation\n",
    "- 1 Download Word2Vec embeddings from [link](https://github.com/frucci/pretrained-italian-word2vec-emb), both are in sqlite file format. Each embedding has 128 dimensions.\n",
    "- 2 Get the [Haspeede 2020](https://ceur-ws.org/Vol-2765/paper162.pdf) dataset\n",
    "- 3 Install pandas, sqlite3 and scikit-learn libraries.\n",
    "\n",
    "## Exercise\n",
    "Use word embeddings from point 1 to classify hate speech from dataset at point 2. The Haspedee dataset contains Twitter data labeled with \"Hate\" or \"No-Hate\".\n"
   ]
  },
  {
   "cell_type": "code",
   "execution_count": 1,
   "metadata": {
    "collapsed": false
   },
   "outputs": [],
   "source": [
    "# Insert here paths to embeddings files\n",
    "itwac_path = 'data/30Marzo/embeddings/itwac128.sqlite'\n",
    "twitter_path ='data/30Marzo/embeddings/twitter128.sqlite'\n",
    "\n",
    "# Insert path to haspedee datasets here\n",
    "haspedee_dataset_path = 'data/30Marzo/haspeede2020/haspeede2_dev_taskAB.tsv'\n",
    "\n",
    "data_path = twitter_path"
   ]
  },
  {
   "cell_type": "code",
   "execution_count": 2,
   "metadata": {
    "collapsed": false
   },
   "outputs": [],
   "source": [
    "# Import and initializations\n",
    "import pandas as pd\n",
    "import sqlite3\n",
    "import random\n",
    "from sklearn.metrics import accuracy_score, f1_score, recall_score, precision_score\n",
    "\n",
    "id_to_label = {\"0\":\"NoHate\", \"1\": \"Hate\"}\n",
    "text_to_id_map = {}\n",
    "\n",
    "def read_embedings(sqllite_path):\n",
    "    \"\"\" Read sqlite embeddings from sqllite_path and returns them into a pandas DataFrame\n",
    "    \"\"\"\n",
    "    con = sqlite3.connect(sqllite_path)\n",
    "    df = pd.read_sql_query(\"SELECT * FROM store\", con)\n",
    "    con.close()\n",
    "    return  df\n",
    "\n",
    "def read_dataset(input_file):\n",
    "  examples = []\n",
    "  labels = []\n",
    "  with open(input_file, 'r', encoding='utf-8', errors='ignore') as f:\n",
    "      contents = f.read()\n",
    "      file_as_list = contents.splitlines()\n",
    "      random.shuffle(file_as_list)\n",
    "      for line in file_as_list:\n",
    "          if line.startswith(\"id\"):\n",
    "            continue\n",
    "          split = line.split(\"\\t\")\n",
    "          text = split[1]\n",
    "          label = split[2]\n",
    "          text_to_id_map[text] = split[0]\n",
    "          labels.append(label)\n",
    "          examples.append(text)\n",
    "      f.close()\n",
    "  return examples, labels\n"
   ]
  },
  {
   "cell_type": "code",
   "execution_count": 3,
   "metadata": {
    "collapsed": false
   },
   "outputs": [],
   "source": [
    "# Reading embeddings\n",
    "# Each row contains a word and the corresponding embedding (128 dimensions) \n",
    "df = read_embedings(data_path)\n",
    "df.set_index('key',inplace=True)\n",
    "df.drop(columns={\"ranking\"},inplace=True)"
   ]
  },
  {
   "cell_type": "code",
   "execution_count": 4,
   "metadata": {
    "collapsed": false
   },
   "outputs": [
    {
     "name": "stdout",
     "output_type": "stream",
     "text": [
      "check sbilanciamento dataset \n",
      "\n",
      " NoHate: 4073\n",
      " Hate:2766\n"
     ]
    }
   ],
   "source": [
    "# x contains the textual dataset\n",
    "# y_ref contains the reference label i.e., 0 for no-hate and 1 for hate-\n",
    "x, y_ref = read_dataset(haspedee_dataset_path)\n",
    "number_of_0 = [value for value in y_ref if value == '0']\n",
    "number_of_1 = [value for value in y_ref if value != '0']\n",
    "print(f\"check sbilanciamento dataset \\n\\n NoHate: {len(number_of_0)}\\n Hate:{len(number_of_1)}\")\n"
   ]
  },
  {
   "attachments": {},
   "cell_type": "markdown",
   "metadata": {},
   "source": [
    "# Balancing Dataset"
   ]
  },
  {
   "cell_type": "code",
   "execution_count": 5,
   "metadata": {},
   "outputs": [],
   "source": [
    "from random import sample\n",
    "\n",
    "elements_to_remove = len(number_of_0) - len(number_of_1)\n",
    "\n",
    "indexes_no_hate_elements = []\n",
    "for i,elem in enumerate(y_ref):\n",
    "    if elem == '0':\n",
    "       indexes_no_hate_elements.append(i)\n",
    "       \n",
    "indexes_element_to_remove = sample(population=indexes_no_hate_elements,k=elements_to_remove)\n",
    "\n",
    "x = [x for i,x in enumerate(x) if i not in indexes_element_to_remove]\n",
    "y_ref = [y for i,y in enumerate(y_ref) if i not in indexes_element_to_remove]\n",
    "\n"
   ]
  },
  {
   "cell_type": "code",
   "execution_count": 6,
   "metadata": {},
   "outputs": [
    {
     "name": "stdout",
     "output_type": "stream",
     "text": [
      "check sbilanciamento etichette \n",
      "\n",
      " NoHate: 2766\n",
      " Hate:2766\n"
     ]
    }
   ],
   "source": [
    "number_of_0 = [value for value in y_ref if value == '0']\n",
    "number_of_1 = [value for value in y_ref if value != '0']\n",
    "print(f\"check sbilanciamento etichette \\n\\n NoHate: {len(number_of_0)}\\n Hate:{len(number_of_1)}\")\n"
   ]
  },
  {
   "cell_type": "code",
   "execution_count": 7,
   "metadata": {
    "collapsed": false
   },
   "outputs": [],
   "source": [
    "# *****PUT HERE YOUR CODE*****\n",
    "from nltk.tokenize import word_tokenize\n",
    "import nltk\n",
    "import numpy as np\n",
    "import re\n",
    "import string \n",
    "punctuations = set(string.punctuation)\n",
    "punctuations.add('\\'')\n",
    "punctuations.add('``')\n",
    "punctuations.add('’')\n",
    "punctuations.add('“')\n",
    "punctuations.add('–')\n",
    "punctuations.add('”')\n",
    "punctuations.add('...')\n",
    "punctuations.add('\\'\\'')\n",
    "\n",
    "\n",
    "def from_word_to_embedding(word,embeddings):\n",
    "    try:\n",
    "        embedding = embeddings.loc[word]\n",
    "    except:\n",
    "        embedding = []\n",
    "    \n",
    "    return np.array(embedding)\n",
    "\n",
    " \n",
    "def tokenize(phrase,language)-> list:\n",
    "    if language == 'italian':\n",
    "        return re.findall(r'\\b[\\w]+\\b', phrase)\n",
    "    else:\n",
    "        return word_tokenize(phrase,language=language)\n",
    "\n",
    "def normalize(tokens,language,puntuactions)-> list:\n",
    "\n",
    "    normalized_tokens = [word.lower() for word in tokens]\n",
    "\n",
    "    #remove puntuactions\n",
    "    tokens_without_puntuactions = [w for w in normalized_tokens if w not in puntuactions]\n",
    "\n",
    "    #remove stop words\n",
    "    stopWords = nltk.corpus.stopwords.words(language)\n",
    "    stopWords.append(\"user\")\n",
    "    stopWords.append(\"url\")\n",
    "    tokens_without_stop_words = [w for w in tokens_without_puntuactions if w not in stopWords]\n",
    "    \n",
    "    return tokens_without_stop_words\n",
    "\n",
    "def from_phrase_to_embedding(phrase,df):\n",
    "\n",
    "    embeddings =[]\n",
    "    for word in phrase:\n",
    "        single_word_embedding = from_word_to_embedding(word,df)\n",
    "        \n",
    "        if single_word_embedding.shape[0] >=1:\n",
    "            embeddings.append(single_word_embedding)\n",
    "    \n",
    "    return np.mean(embeddings,axis=0)\n",
    "\n",
    "embeddings =[]\n",
    "for phrase in x:\n",
    "    tokenized_phrase = tokenize(phrase=phrase,language=\"italian\")\n",
    "\n",
    "    normalized_phrase = normalize(tokens=tokenized_phrase,language=\"italian\",puntuactions=punctuations)\n",
    "\n",
    "    embeddings.append(from_phrase_to_embedding(normalized_phrase,df))\n",
    "\n",
    "        \n",
    "dataset = pd.DataFrame(columns=df.columns,data=embeddings)\n",
    "\n"
   ]
  },
  {
   "cell_type": "code",
   "execution_count": 8,
   "metadata": {},
   "outputs": [],
   "source": [
    "from sklearn.linear_model import LogisticRegressionCV\n",
    "from sklearn.model_selection import train_test_split, KFold\n",
    "\n",
    "X_train, X_test, Y_train, Y_test = train_test_split(dataset,y_ref,test_size=0.30,random_state=454657)\n",
    "model = LogisticRegressionCV(n_jobs=-1,cv=KFold(n_splits=10,random_state=23445547,shuffle=True),solver='liblinear')\n",
    "\n",
    "model.fit(X_train,Y_train)\n",
    "\n",
    "y_hyp = model.predict(X_test)\n"
   ]
  },
  {
   "cell_type": "code",
   "execution_count": 9,
   "metadata": {
    "collapsed": false
   },
   "outputs": [
    {
     "name": "stdout",
     "output_type": "stream",
     "text": [
      "precision: 0.7067757009345794\n",
      "recall: 0.7478368355995055\n",
      "accuracy: 0.7259036144578314\n",
      "f1: 0.7267267267267267\n"
     ]
    }
   ],
   "source": [
    "# Evaluate your results with these metrics\n",
    "a = accuracy_score(Y_test,y_hyp)\n",
    "p = precision_score(Y_test, y_hyp, pos_label=\"1\")\n",
    "r = recall_score(Y_test, y_hyp, pos_label=\"1\")\n",
    "f1 = f1_score(Y_test, y_hyp, pos_label=\"1\")\n",
    "print(\"precision: \" + str(p) )\n",
    "print(\"recall: \" + str(r) )\n",
    "print(\"accuracy: \" + str(a) )\n",
    "print(\"f1: \" + str(f1) )"
   ]
  },
  {
   "cell_type": "code",
   "execution_count": 10,
   "metadata": {},
   "outputs": [
    {
     "name": "stdout",
     "output_type": "stream",
     "text": [
      "[[0.70505288 0.29494712]\n",
      " [0.25216316 0.74783684]]\n"
     ]
    },
    {
     "data": {
      "image/png": "[encoded data removed]",
      "text/plain": [
       "<Figure size 640x480 with 2 Axes>"
      ]
     },
     "metadata": {},
     "output_type": "display_data"
    }
   ],
   "source": [
    "from sklearn.metrics import ConfusionMatrixDisplay\n",
    "import matplotlib.pyplot as plt\n",
    "\n",
    "\n",
    "disp = ConfusionMatrixDisplay.from_estimator(\n",
    "        model,\n",
    "        X_test,\n",
    "        Y_test,\n",
    "        display_labels=[\"NoHate\",\"Hate\"],\n",
    "        cmap=plt.cm.Blues,\n",
    "        normalize=\"true\",\n",
    "    )\n",
    "\n",
    "print(disp.confusion_matrix)\n",
    "plt.show()"
   ]
  }
 ],
 "metadata": {
  "kernelspec": {
   "display_name": "Python 3",
   "language": "python",
   "name": "python3"
  },
  "language_info": {
   "codemirror_mode": {
    "name": "ipython",
    "version": 3
   },
   "file_extension": ".py",
   "mimetype": "text/x-python",
   "name": "python",
   "nbconvert_exporter": "python",
   "pygments_lexer": "ipython3",
   "version": "3.9.16"
  }
 },
 "nbformat": 4,
 "nbformat_minor": 0
}
